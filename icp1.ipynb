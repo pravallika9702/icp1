{
 "cells": [
  {
   "cell_type": "code",
   "execution_count": 7,
   "id": "14c54244-aab2-4920-b7a5-cc9cdc0540d7",
   "metadata": {},
   "outputs": [
    {
     "name": "stdin",
     "output_type": "stream",
     "text": [
      "enter data :  python\n"
     ]
    },
    {
     "name": "stdout",
     "output_type": "stream",
     "text": [
      "typ\n"
     ]
    }
   ],
   "source": [
    "import random\n",
    "data = input(\"enter data : \")\n",
    "\n",
    "split =  random.randrange(2, len(data)-2)\n",
    "\n",
    "data = data.replace(data[split:],\"\")\n",
    "data = data[::-1]\n",
    "print(data)"
   ]
  },
  {
   "cell_type": "code",
   "execution_count": 2,
   "id": "a8aac392-bd6b-4671-9512-beab5d162e37",
   "metadata": {},
   "outputs": [
    {
     "name": "stdin",
     "output_type": "stream",
     "text": [
      "enter number 1 : 67\n",
      "enter number 2 : 54\n"
     ]
    },
    {
     "name": "stdout",
     "output_type": "stream",
     "text": [
      "\n",
      " addition :  121\n",
      "substraction :  13\n",
      "divison :  1.2407407407407407\n",
      "multiplication :  3618\n"
     ]
    }
   ],
   "source": [
    "num1 = int(input(\"enter number 1 :\"))\n",
    "num2 = int(input(\"enter number 2 :\"))\n",
    "\n",
    "print(\"\\n addition : \",(num1+num2))\n",
    "print(\"substraction : \",(num1-num2))\n",
    "print(\"divison : \",(num1/num2))\n",
    "print(\"multiplication : \",(num1*num2))"
   ]
  },
  {
   "cell_type": "code",
   "execution_count": 4,
   "id": "217ed52a-2c21-448d-b4ca-559e5f3eacec",
   "metadata": {},
   "outputs": [
    {
     "name": "stdin",
     "output_type": "stream",
     "text": [
      "enter string : i love python\n"
     ]
    },
    {
     "name": "stdout",
     "output_type": "stream",
     "text": [
      "i love pythons\n"
     ]
    }
   ],
   "source": [
    "inputValue = input(\"enter string :\")\n",
    "\n",
    "inputValue = inputValue.replace(\"python\",\"pythons\")\n",
    "\n",
    "print(inputValue)"
   ]
  },
  {
   "cell_type": "code",
   "execution_count": 6,
   "id": "18fc3d8b-31f0-4591-8850-4f04ba654b83",
   "metadata": {},
   "outputs": [
    {
     "name": "stdin",
     "output_type": "stream",
     "text": [
      "Enter Students score :  76\n"
     ]
    },
    {
     "name": "stdout",
     "output_type": "stream",
     "text": [
      "Grade = C\n"
     ]
    }
   ],
   "source": [
    "marks = int(input(\"Enter Students score : \"))\n",
    "\n",
    "if(marks<=100 and marks>=90):\n",
    "    print(\"Grade = A\")\n",
    "elif(marks<=89 and marks>=80):\n",
    "     print(\"Grade = B\")\n",
    "elif(marks<=79 and marks>=70):\n",
    "     print(\"Grade = C\") \n",
    "elif(marks<=69 and marks>=60):\n",
    "     print(\"Grade = D\")\n",
    "elif(marks<=59 and marks>=0):\n",
    "     print(\"Grade = F\")"
   ]
  },
  {
   "cell_type": "code",
   "execution_count": null,
   "id": "e90ad835-5218-4384-bd03-890379d451dc",
   "metadata": {},
   "outputs": [],
   "source": []
  }
 ],
 "metadata": {
  "kernelspec": {
   "display_name": "Python 3 (ipykernel)",
   "language": "python",
   "name": "python3"
  },
  "language_info": {
   "codemirror_mode": {
    "name": "ipython",
    "version": 3
   },
   "file_extension": ".py",
   "mimetype": "text/x-python",
   "name": "python",
   "nbconvert_exporter": "python",
   "pygments_lexer": "ipython3",
   "version": "3.9.13"
  }
 },
 "nbformat": 4,
 "nbformat_minor": 5
}
